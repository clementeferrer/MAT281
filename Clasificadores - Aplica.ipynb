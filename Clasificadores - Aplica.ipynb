{
 "cells": [
  {
   "cell_type": "markdown",
   "id": "60e512b9",
   "metadata": {
    "tags": []
   },
   "source": [
    "# Instalar librerias"
   ]
  },
  {
   "cell_type": "code",
   "execution_count": null,
   "id": "bb2507cb",
   "metadata": {},
   "outputs": [],
   "source": [
    "#install.packages(\"class\")\n",
    "#install.packages('caret')\n",
    "#install.packages('ggplot2')\n",
    "#install.packages('lattice')\n",
    "#install.packages('scales')\n",
    "#install.packages('ggpubr')\n",
    "#install.packages('e1071')\n",
    "#install.packages('kernlab')\n",
    "#install.packages('formattable')\n",
    "#install.packages('gridExtra')\n",
    "#install.packages(\"nnet\")\n",
    "#install.packages(\"rpart\")"
   ]
  },
  {
   "cell_type": "markdown",
   "id": "c7b6d67d",
   "metadata": {
    "tags": []
   },
   "source": [
    "# Librerias"
   ]
  },
  {
   "cell_type": "code",
   "execution_count": null,
   "id": "eac6fb6e",
   "metadata": {},
   "outputs": [],
   "source": [
    "library(class)\n",
    "library(caret)\n",
    "library(ggplot2)\n",
    "library(lattice)\n",
    "library(kernlab)\n",
    "library(e1071)\n",
    "library(ggpubr)\n",
    "library(scales)\n",
    "library(formattable)\n",
    "library(gridExtra)\n",
    "library(nnet)\n",
    "library(rpart)"
   ]
  },
  {
   "cell_type": "markdown",
   "id": "45f95e86",
   "metadata": {
    "tags": []
   },
   "source": [
    "# Función auxiliar para plotear dígitos y obtener el número respectivo"
   ]
  },
  {
   "cell_type": "code",
   "execution_count": null,
   "id": "00a13ae2",
   "metadata": {},
   "outputs": [],
   "source": [
    "plot_digit <- function(digit) {\n",
    "  M <- matrix(as.numeric(digit[1:256]), nrow = 16, ncol = 16, byrow = TRUE)\n",
    "  image(t(M[nrow(M):1, ]), col = c(0,1), xaxt = \"n\", yaxt = \"n\", useRaster = TRUE)\n",
    "  digit[257]\n",
    "}"
   ]
  },
  {
   "cell_type": "markdown",
   "id": "98cd7ebc-33c9-47b4-8b5c-56207f478bd4",
   "metadata": {},
   "source": [
    "# Función auxiliar para plotear matriz de confusión."
   ]
  },
  {
   "cell_type": "code",
   "execution_count": null,
   "id": "34a3f2c1-42f8-410d-8e6f-d7b715ba7cf5",
   "metadata": {},
   "outputs": [],
   "source": [
    "ggplotConfusionMatrix <- function(m){ #https://stackoverflow.com/questions/67946452/how-can-i-improve-this-confusion-matrix-in-r\n",
    "  mytitle <- paste(\"Precisión\", percent_format()(m$overall[1]),\n",
    "                   \"Kappa\", percent_format()(m$overall[2]))\n",
    "  dat <- as.data.frame(m$table) \n",
    "  dat$lab <- ifelse(dat$Freq == 0, '', dat$Freq)\n",
    "  p <- ggplot(data = dat, aes(x = actual, y = predicted)) +\n",
    "    geom_tile(aes(fill = log(Freq)), colour = \"white\") +\n",
    "    scale_fill_gradient(low = \"white\", high = \"steelblue\") +\n",
    "    geom_text(aes(x = actual, y = predicted, label = lab),size = 12) +\n",
    "    theme(legend.position = \"none\") +  xlab(\"Actual\") + ylab(\"Predicted\") +\n",
    "    ggtitle(mytitle) + theme(axis.title = element_text(size=18)) + theme(text=element_text(size=20), plot.title=element_text(size=25))\n",
    "  return(p)\n",
    "}"
   ]
  },
  {
   "cell_type": "markdown",
   "id": "c7d3ebdc",
   "metadata": {
    "tags": []
   },
   "source": [
    "# Lectura datos y almacenamiento de las columnas de los pixeles"
   ]
  },
  {
   "cell_type": "code",
   "execution_count": null,
   "id": "ea185ba6",
   "metadata": {},
   "outputs": [],
   "source": [
    "semeion <- read.table(\"/Users/ccfer/Documents/semeion.data\", quote = \"\\\"\", comment.char = \"\")\n",
    "pixel_data <- semeion[ , 1:256]\n",
    "df2 <- sapply(semeion, as.numeric) \n",
    "df2[sample(nrow(df2), 8), ]"
   ]
  },
  {
   "cell_type": "markdown",
   "id": "5159e4a2",
   "metadata": {
    "tags": []
   },
   "source": [
    "# Obtención del dígito asociado por fila y creación tabla 1593x257 con último dígito numérico"
   ]
  },
  {
   "cell_type": "code",
   "execution_count": null,
   "id": "d903cf7e",
   "metadata": {},
   "outputs": [],
   "source": [
    "digit <- apply(semeion[ , 257:266], 1, function(x) which.max(x)-1)\n",
    "semeion_new <- data.frame(pixel_data, digit)\n",
    "df <- sapply(semeion_new, as.numeric) \n",
    "df[sample(nrow(semeion_new), 8), ]            "
   ]
  },
  {
   "cell_type": "markdown",
   "id": "12b94b40",
   "metadata": {
    "tags": []
   },
   "source": [
    "# Conjunto entrenamiento y prueba"
   ]
  },
  {
   "cell_type": "code",
   "execution_count": null,
   "id": "81be0063",
   "metadata": {},
   "outputs": [],
   "source": [
    "set.seed(1) #Para poder ser reproducido\n",
    "data <- semeion_new\n",
    "random <- sample(1:nrow(data), 0.9 * nrow(data)) # 90%: Entrenamiento, 10%: testeo\n",
    "train <- data[random, ]\n",
    "test <- data[-random, ]"
   ]
  },
  {
   "cell_type": "markdown",
   "id": "7f4c433d",
   "metadata": {
    "tags": []
   },
   "source": [
    "# Análisis exploratorio"
   ]
  },
  {
   "cell_type": "code",
   "execution_count": null,
   "id": "7aba30e9",
   "metadata": {},
   "outputs": [],
   "source": [
    "tab <- table(train$digit)  \n",
    "tabdata = as.data.frame(tab)\n",
    "ggplot(tabdata, aes(x = Var1, y = Freq)) + geom_bar(fill = \"#0073C2FF\", stat = \"identity\") + xlab(\"Dígitos\") + ylab(\"Frecuencia\") +\n",
    "geom_text(aes(label = Freq), vjust = -0.3) + ggtitle(\"Distribución conjunto de entrenamiento\") + \n",
    "theme(legend.position = \"bottom\", panel.background = element_rect(fill = NA), panel.border = element_rect(fill = NA, color = \"grey75\"),\n",
    "axis.ticks = element_line(color = \"grey85\"), panel.grid.major = element_line(color = \"grey95\", size = 0.2), \n",
    "panel.grid.minor = element_line(color = \"grey95\", size = 0.2), axis.title=element_text(size=16), plot.title=element_text(size=20), plot.subtitle=element_text(size=16))"
   ]
  },
  {
   "cell_type": "markdown",
   "id": "a1918b9f",
   "metadata": {
    "tags": []
   },
   "source": [
    "# Ploteo de algunos dígitos"
   ]
  },
  {
   "cell_type": "code",
   "execution_count": null,
   "id": "6991afa4",
   "metadata": {
    "tags": []
   },
   "outputs": [],
   "source": [
    "old_par <- par(mfrow = c(4, 6), oma = c(5, 4, 0, 0) + 0.1, mar = c(0, 0, 1, 1) + 0.1)\n",
    "matrix(apply(train[1:24, ], 1, plot_digit), 4, 6, byrow = TRUE)"
   ]
  },
  {
   "cell_type": "markdown",
   "id": "019eab9d",
   "metadata": {
    "tags": []
   },
   "source": [
    "# Vecinos Cercanos"
   ]
  },
  {
   "cell_type": "code",
   "execution_count": null,
   "id": "5a6a3658",
   "metadata": {},
   "outputs": [],
   "source": [
    "modelo_knn <- knn(train[, 1:256], test[, 1:256], cl = train$digit, k = 7)\n",
    "cm_knn <- confusionMatrix(modelo_knn, as.factor(test$digit), dnn = c(\"predicted\", \"actual\"))\n",
    "ggplotConfusionMatrix(cm_knn)"
   ]
  },
  {
   "cell_type": "markdown",
   "id": "58117ff2-09a9-4d84-9ce6-d0993d9e5381",
   "metadata": {},
   "source": [
    "# Support Vector Machine"
   ]
  },
  {
   "cell_type": "code",
   "execution_count": null,
   "id": "60dbfcc4-7a8a-4f07-8e3b-bf9e21c501eb",
   "metadata": {},
   "outputs": [],
   "source": [
    "modelo_svm <- train(as.factor(digit) ~. , data = train, method = \"svmRadial\")\n",
    "pred_svm <- predict(modelo_svm, test)\n",
    "cm_svm <- confusionMatrix(pred_svm, as.factor(test$digit), dnn = c(\"predicted\", \"actual\"))\n",
    "ggplotConfusionMatrix(cm_svm)"
   ]
  },
  {
   "cell_type": "markdown",
   "id": "001958c7-2a66-4938-b243-e82001ef8b0e",
   "metadata": {},
   "source": [
    "# Regresión logistica"
   ]
  },
  {
   "cell_type": "code",
   "execution_count": null,
   "id": "3e192cda-7de4-4187-ab8e-ece1f07bf950",
   "metadata": {},
   "outputs": [],
   "source": [
    "modelo_rl <- multinom(train$digit ~ ., data = train, usekernel = T, MaxNWts = 5000)\n",
    "pred_rl <- predict(modelo_rl, test)\n",
    "cm_rl <- confusionMatrix(pred_rl, as.factor(test$digit), dnn = c(\"predicted\", \"actual\"))\n",
    "ggplotConfusionMatrix(cm_rl)"
   ]
  },
  {
   "cell_type": "markdown",
   "id": "a3c4401b-afdd-4061-b77f-c17351211530",
   "metadata": {},
   "source": [
    "# Naive Bayes"
   ]
  },
  {
   "cell_type": "code",
   "execution_count": null,
   "id": "a9f1d043-6bca-4f14-8cfc-d72a79cdf05d",
   "metadata": {},
   "outputs": [],
   "source": [
    "modelo_nb <- naiveBayes(train$digit ~ ., data = train)\n",
    "pred_nb <- predict(modelo_nb, test)\n",
    "cm_nb <- confusionMatrix(pred_nb, as.factor(test$digit), dnn = c(\"predicted\", \"actual\"))\n",
    "ggplotConfusionMatrix(cm_nb)"
   ]
  },
  {
   "cell_type": "markdown",
   "id": "8aec5c62-da41-4603-a7a9-edc55ca30b74",
   "metadata": {},
   "source": [
    "# Árboles de decisión"
   ]
  },
  {
   "cell_type": "code",
   "execution_count": null,
   "id": "3c721bdf-cdbd-4e6a-a62c-e300808fbf90",
   "metadata": {},
   "outputs": [],
   "source": [
    "modelo_ad <- rpart(as.factor(train$digit) ~ ., data = train)\n",
    "pred_ad <- predict(modelo_ad, test, type = \"class\")\n",
    "cm_ad <- confusionMatrix(pred_ad, as.factor(test$digit), dnn = c(\"predicted\", \"actual\"))\n",
    "ggplotConfusionMatrix(cm_ad)"
   ]
  }
 ],
 "metadata": {
  "kernelspec": {
   "display_name": "R",
   "language": "R",
   "name": "ir"
  },
  "language_info": {
   "codemirror_mode": "r",
   "file_extension": ".r",
   "mimetype": "text/x-r-source",
   "name": "R",
   "pygments_lexer": "r",
   "version": "4.1.2"
  }
 },
 "nbformat": 4,
 "nbformat_minor": 5
}
